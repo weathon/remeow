{
 "cells": [
  {
   "cell_type": "code",
   "execution_count": 1,
   "metadata": {},
   "outputs": [],
   "source": [
    "class Args:\n",
    "    def __init__(self):\n",
    "        self.attention_probs_dropout_prob = 0.2\n",
    "        self.hidden_dropout_prob = 0.2\n",
    "        self.drop_path_rate = 0.1\n",
    "        self.classifier_dropout = 0.1\n",
    "        self.ksteps = 1000\n",
    "\n",
    "args = Args()"
   ]
  },
  {
   "cell_type": "code",
   "execution_count": 2,
   "metadata": {},
   "outputs": [
    {
     "name": "stderr",
     "output_type": "stream",
     "text": [
      "/home/wg25r/.local/lib/python3.10/site-packages/tqdm/auto.py:21: TqdmWarning: IProgress not found. Please update jupyter and ipywidgets. See https://ipywidgets.readthedocs.io/en/stable/user_install.html\n",
      "  from .autonotebook import tqdm as notebook_tqdm\n"
     ]
    }
   ],
   "source": [
    "from transformers import SegformerFeatureExtractor, SegformerForSemanticSegmentation, SegformerConfig\n",
    "import torch\n",
    "import numpy as np\n",
    "from PIL import Image\n"
   ]
  },
  {
   "cell_type": "code",
   "execution_count": 3,
   "metadata": {},
   "outputs": [
    {
     "name": "stderr",
     "output_type": "stream",
     "text": [
      "Some weights of SegformerForSemanticSegmentation were not initialized from the model checkpoint at nvidia/segformer-b2-finetuned-ade-512-512 and are newly initialized: ['segformer.encoder.test.bias', 'segformer.encoder.test.weight']\n",
      "You should probably TRAIN this model on a down-stream task to be able to use it for predictions and inference.\n"
     ]
    }
   ],
   "source": [
    "config = SegformerConfig.from_pretrained(\"nvidia/segformer-b2-finetuned-ade-512-512\")\n",
    "config.hidden_dropout_prob = args.hidden_dropout_prob\n",
    "config.attention_probs_dropout_prob = args.attention_probs_dropout_prob\n",
    "config.drop_path_rate = args.drop_path_rate\n",
    "config.classifier_dropout = args.classifier_dropout\n",
    "model = SegformerForSemanticSegmentation.from_pretrained(\"nvidia/segformer-b2-finetuned-ade-512-512\", config=config)\n",
    "model.segformer.encoder.patch_embeddings[0].proj = torch.nn.Conv2d(9, 64, kernel_size=(7, 7), stride=(4, 4), padding=(3, 3))\n",
    "model.decode_head.classifier = torch.nn.Conv2d(768, 1, kernel_size=(1, 1), stride=(1, 1))"
   ]
  },
  {
   "cell_type": "code",
   "execution_count": null,
   "metadata": {},
   "outputs": [
    {
     "name": "stderr",
     "output_type": "stream",
     "text": [
      "\u001b[34m\u001b[1mwandb\u001b[0m: Using wandb-core as the SDK backend. Please refer to https://wandb.me/wandb-core for more information.\n",
      "\u001b[34m\u001b[1mwandb\u001b[0m: Currently logged in as: \u001b[33mwguo6358\u001b[0m (\u001b[33m3dsmile\u001b[0m). Use \u001b[1m`wandb login --relogin`\u001b[0m to force relogin\n"
     ]
    },
    {
     "data": {
      "text/html": [
       "Tracking run with wandb version 0.18.1"
      ],
      "text/plain": [
       "<IPython.core.display.HTML object>"
      ]
     },
     "metadata": {},
     "output_type": "display_data"
    },
    {
     "data": {
      "text/html": [
       "Run data is saved locally in <code>/home/wg25r/remeow/wandb/run-20241106_174704-kk23z8of</code>"
      ],
      "text/plain": [
       "<IPython.core.display.HTML object>"
      ]
     },
     "metadata": {},
     "output_type": "display_data"
    },
    {
     "data": {
      "text/html": [
       "Syncing run <strong><a href='https://wandb.ai/3dsmile/Remeow/runs/kk23z8of' target=\"_blank\">different-fire-8</a></strong> to <a href='https://wandb.ai/3dsmile/Remeow' target=\"_blank\">Weights & Biases</a> (<a href='https://wandb.me/run' target=\"_blank\">docs</a>)<br/>"
      ],
      "text/plain": [
       "<IPython.core.display.HTML object>"
      ]
     },
     "metadata": {},
     "output_type": "display_data"
    },
    {
     "data": {
      "text/html": [
       " View project at <a href='https://wandb.ai/3dsmile/Remeow' target=\"_blank\">https://wandb.ai/3dsmile/Remeow</a>"
      ],
      "text/plain": [
       "<IPython.core.display.HTML object>"
      ]
     },
     "metadata": {},
     "output_type": "display_data"
    },
    {
     "data": {
      "text/html": [
       " View run at <a href='https://wandb.ai/3dsmile/Remeow/runs/kk23z8of' target=\"_blank\">https://wandb.ai/3dsmile/Remeow/runs/kk23z8of</a>"
      ],
      "text/plain": [
       "<IPython.core.display.HTML object>"
      ]
     },
     "metadata": {},
     "output_type": "display_data"
    }
   ],
   "source": [
    "class trainer:\n",
    "    def __init__(self, model, optimizer, lr_scheduler, train_dataloader, val_dataloader, logger, loss_fn):\n",
    "        self.model = model\n",
    "        self.optimizer = optimizer\n",
    "        self.lr_scheduler = lr_scheduler\n",
    "        self.train_dataloader = train_dataloader\n",
    "        self.val_dataloader = val_dataloader\n",
    "        self.logger = logger\n",
    "        self.loss_fn = loss_fn\n",
    "        self.running_loss = 0\n",
    "        self.running_f1 = 0\n",
    "        self.step = 0\n",
    "\n",
    "    \n",
    "    def train_step(self, X, Y, ROI):\n",
    "        self.model.train()\n",
    "        self.optimizer.zero_grad()\n",
    "        pred = self.model(X).logits * ROI\n",
    "        Y = Y * ROI\n",
    "        loss = self.loss_fn(pred, Y)\n",
    "        loss.backward()\n",
    "        self.optimizer.step()\n",
    "        f1 = (2 * (pred > 0).float() * Y.float()).sum() / ((pred > 0).float() + Y.float()).sum()\n",
    "        \n",
    "        self.running_loss += loss.item()\n",
    "        self.running_f1 += f1.item()\n",
    "\n",
    "    def validate(self, X, Y, ROI):\n",
    "        self.model.eval()\n",
    "        with torch.no_grad():\n",
    "            pref = self.model(X).logits * ROI\n",
    "            Y = Y * ROI\n",
    "            loss = self.loss_fn(pref, Y)\n",
    "            f1 = (2 * (pref > 0).float() * Y.float()).sum() / ((pref > 0).float() + Y.float()).sum()\n",
    "        return loss, f1\n",
    "    \n",
    "    \n",
    "    def train_epoch(self):\n",
    "        for i, (X, Y, ROI) in enumerate(self.train_dataloader):\n",
    "            self.train_step(X, Y, ROI)\n",
    "            if i%1000 == 0: \n",
    "                self.logger.log({\"loss\": self.running_loss / 100, \"f1\": self.running_f1 / 100})\n",
    "                print(f\"Epoch {self.epoch}, Step {i}, Loss: {self.running_loss / 100}, F1: {self.running_f1 / 100}\")\n",
    "                for i, (val_X, val_Y, val_ROI) in enumerate(self.val_dataloader):\n",
    "                    val_runnning_loss, val_running_f1 = 0, 0\n",
    "                    val_loss, val_f1 = self.validate(val_X, val_Y, val_ROI)\n",
    "                    val_runnning_loss += val_loss\n",
    "                    val_running_f1 += val_f1\n",
    "                \n",
    "                self.logger.log({\"val_loss\": val_runnning_loss / len(self.val_dataloader), \"val_f1\": val_running_f1 / len(self.val_dataloader)})\n",
    "                print(f\"Validation Loss: {val_runnning_loss / len(self.val_dataloader)}, Validation F1: {val_running_f1 / len(self.val_dataloader)}\")\n",
    "\n",
    "                self.running_loss = 0\n",
    "                self.running_f1 = 0\n",
    "                self.lr_scheduler.step()\n",
    "                self.step += 1\n",
    "                if self.step >= args.ksteps:\n",
    "                    raise StopIteration\n",
    "\n",
    "    def train(self):\n",
    "        while True:\n",
    "            try:\n",
    "                self.train_epoch()\n",
    "            except StopIteration:\n",
    "                break\n",
    "\n",
    "from dataloader import CustomDataset\n",
    "import wandb\n",
    "optimizer = torch.optim.AdamW(model.parameters(), lr=1e-5)\n",
    "lr_scheduler = torch.optim.lr_scheduler.CosineAnnealingLR(optimizer, args.ksteps)\n",
    "train_dataset = CustomDataset(\"/mnt/fastdata/preaug_cdnet/\", \"/mnt/fastdata/CDNet\", 1, \"train\")\n",
    "val_dataset = CustomDataset(\"/mnt/fastdata/preaug_cdnet/\", \"/mnt/fastdata/CDNet\", 1, \"val\")\n",
    "train_dataloader = torch.utils.data.DataLoader(train_dataset, batch_size=32, shuffle=True, num_workers=20)\n",
    "val_dataloader = torch.utils.data.DataLoader(val_dataset, batch_size=32, shuffle=True, num_workers=20)\n",
    "loss_fn = torch.nn.BCEWithLogitsLoss()\n",
    "\n",
    "wandb.init(project=\"Remeow\")\n",
    "logger = wandb\n",
    "trainer = trainer(model, optimizer, lr_scheduler, train_dataloader, val_dataloader, logger, loss_fn)\n"
   ]
  },
  {
   "cell_type": "code",
   "execution_count": 5,
   "metadata": {},
   "outputs": [
    {
     "ename": "RuntimeError",
     "evalue": "The size of tensor a (512) must match the size of tensor b (128) at non-singleton dimension 3",
     "output_type": "error",
     "traceback": [
      "\u001b[0;31m---------------------------------------------------------------------------\u001b[0m",
      "\u001b[0;31mRuntimeError\u001b[0m                              Traceback (most recent call last)",
      "Cell \u001b[0;32mIn[5], line 1\u001b[0m\n\u001b[0;32m----> 1\u001b[0m \u001b[43mtrainer\u001b[49m\u001b[38;5;241;43m.\u001b[39;49m\u001b[43mtrain\u001b[49m\u001b[43m(\u001b[49m\u001b[43m)\u001b[49m\n",
      "Cell \u001b[0;32mIn[4], line 63\u001b[0m, in \u001b[0;36mtrainer.train\u001b[0;34m(self)\u001b[0m\n\u001b[1;32m     61\u001b[0m \u001b[38;5;28;01mwhile\u001b[39;00m \u001b[38;5;28;01mTrue\u001b[39;00m:\n\u001b[1;32m     62\u001b[0m     \u001b[38;5;28;01mtry\u001b[39;00m:\n\u001b[0;32m---> 63\u001b[0m         \u001b[38;5;28;43mself\u001b[39;49m\u001b[38;5;241;43m.\u001b[39;49m\u001b[43mtrain_epoch\u001b[49m\u001b[43m(\u001b[49m\u001b[43m)\u001b[49m\n\u001b[1;32m     64\u001b[0m     \u001b[38;5;28;01mexcept\u001b[39;00m \u001b[38;5;167;01mStopIteration\u001b[39;00m:\n\u001b[1;32m     65\u001b[0m         \u001b[38;5;28;01mbreak\u001b[39;00m\n",
      "Cell \u001b[0;32mIn[4], line 40\u001b[0m, in \u001b[0;36mtrainer.train_epoch\u001b[0;34m(self)\u001b[0m\n\u001b[1;32m     38\u001b[0m \u001b[38;5;28;01mdef\u001b[39;00m \u001b[38;5;21mtrain_epoch\u001b[39m(\u001b[38;5;28mself\u001b[39m):\n\u001b[1;32m     39\u001b[0m     \u001b[38;5;28;01mfor\u001b[39;00m i, (X, Y, ROI) \u001b[38;5;129;01min\u001b[39;00m \u001b[38;5;28menumerate\u001b[39m(\u001b[38;5;28mself\u001b[39m\u001b[38;5;241m.\u001b[39mtrain_dataloader):\n\u001b[0;32m---> 40\u001b[0m         \u001b[38;5;28;43mself\u001b[39;49m\u001b[38;5;241;43m.\u001b[39;49m\u001b[43mtrain_step\u001b[49m\u001b[43m(\u001b[49m\u001b[43mX\u001b[49m\u001b[43m,\u001b[49m\u001b[43m \u001b[49m\u001b[43mY\u001b[49m\u001b[43m,\u001b[49m\u001b[43m \u001b[49m\u001b[43mROI\u001b[49m\u001b[43m)\u001b[49m\n\u001b[1;32m     41\u001b[0m         \u001b[38;5;28;01mif\u001b[39;00m i\u001b[38;5;241m%\u001b[39m\u001b[38;5;241m1000\u001b[39m \u001b[38;5;241m==\u001b[39m \u001b[38;5;241m0\u001b[39m: \n\u001b[1;32m     42\u001b[0m             \u001b[38;5;28mself\u001b[39m\u001b[38;5;241m.\u001b[39mlogger\u001b[38;5;241m.\u001b[39mlog({\u001b[38;5;124m\"\u001b[39m\u001b[38;5;124mloss\u001b[39m\u001b[38;5;124m\"\u001b[39m: \u001b[38;5;28mself\u001b[39m\u001b[38;5;241m.\u001b[39mrunning_loss \u001b[38;5;241m/\u001b[39m \u001b[38;5;241m100\u001b[39m, \u001b[38;5;124m\"\u001b[39m\u001b[38;5;124mf1\u001b[39m\u001b[38;5;124m\"\u001b[39m: \u001b[38;5;28mself\u001b[39m\u001b[38;5;241m.\u001b[39mrunning_f1 \u001b[38;5;241m/\u001b[39m \u001b[38;5;241m100\u001b[39m})\n",
      "Cell \u001b[0;32mIn[4], line 19\u001b[0m, in \u001b[0;36mtrainer.train_step\u001b[0;34m(self, X, Y, ROI)\u001b[0m\n\u001b[1;32m     17\u001b[0m \u001b[38;5;28mself\u001b[39m\u001b[38;5;241m.\u001b[39moptimizer\u001b[38;5;241m.\u001b[39mzero_grad()\n\u001b[1;32m     18\u001b[0m pred \u001b[38;5;241m=\u001b[39m \u001b[38;5;28mself\u001b[39m\u001b[38;5;241m.\u001b[39mmodel(X)\u001b[38;5;241m.\u001b[39mlogits \u001b[38;5;241m*\u001b[39m ROI\n\u001b[0;32m---> 19\u001b[0m Y \u001b[38;5;241m=\u001b[39m \u001b[43mY\u001b[49m\u001b[43m \u001b[49m\u001b[38;5;241;43m*\u001b[39;49m\u001b[43m \u001b[49m\u001b[43mROI\u001b[49m\n\u001b[1;32m     20\u001b[0m loss \u001b[38;5;241m=\u001b[39m \u001b[38;5;28mself\u001b[39m\u001b[38;5;241m.\u001b[39mloss_fn(pred, Y)\n\u001b[1;32m     21\u001b[0m loss\u001b[38;5;241m.\u001b[39mbackward()\n",
      "\u001b[0;31mRuntimeError\u001b[0m: The size of tensor a (512) must match the size of tensor b (128) at non-singleton dimension 3"
     ]
    }
   ],
   "source": [
    "trainer.train()"
   ]
  }
 ],
 "metadata": {
  "kernelspec": {
   "display_name": "Python 3",
   "language": "python",
   "name": "python3"
  },
  "language_info": {
   "codemirror_mode": {
    "name": "ipython",
    "version": 3
   },
   "file_extension": ".py",
   "mimetype": "text/x-python",
   "name": "python",
   "nbconvert_exporter": "python",
   "pygments_lexer": "ipython3",
   "version": "3.10.12"
  }
 },
 "nbformat": 4,
 "nbformat_minor": 2
}
