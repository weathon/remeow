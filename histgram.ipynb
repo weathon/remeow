{
 "cells": [
  {
   "cell_type": "code",
   "execution_count": null,
   "metadata": {},
   "outputs": [
    {
     "data": {
      "text/plain": [
       "['office', 'highway', 'pedestrians', 'PETS2006']"
      ]
     },
     "execution_count": 82,
     "metadata": {},
     "output_type": "execute_result"
    }
   ],
   "source": []
  },
  {
   "cell_type": "code",
   "execution_count": 2,
   "metadata": {},
   "outputs": [
    {
     "name": "stderr",
     "output_type": "stream",
     "text": [
      "  0%|          | 0/3000 [00:00<?, ?it/s]"
     ]
    },
    {
     "name": "stderr",
     "output_type": "stream",
     "text": [
      "100%|██████████| 3000/3000 [00:05<00:00, 593.46it/s]\n"
     ]
    },
    {
     "name": "stdout",
     "output_type": "stream",
     "text": [
      ".\n"
     ]
    },
    {
     "name": "stderr",
     "output_type": "stream",
     "text": [
      "100%|██████████| 51/51 [00:00<00:00, 1472.01it/s]\n",
      "100%|██████████| 4000/4000 [00:05<00:00, 694.29it/s]\n"
     ]
    },
    {
     "name": "stdout",
     "output_type": "stream",
     "text": [
      ".\n"
     ]
    },
    {
     "name": "stderr",
     "output_type": "stream",
     "text": [
      "100%|██████████| 51/51 [00:00<00:00, 10335.79it/s]\n",
      "100%|██████████| 1500/1500 [00:00<00:00, 1620.87it/s]\n"
     ]
    },
    {
     "name": "stdout",
     "output_type": "stream",
     "text": [
      ".\n"
     ]
    },
    {
     "name": "stderr",
     "output_type": "stream",
     "text": [
      "100%|██████████| 51/51 [00:00<00:00, 16638.88it/s]\n",
      "100%|██████████| 900/900 [00:01<00:00, 823.63it/s]\n"
     ]
    },
    {
     "name": "stdout",
     "output_type": "stream",
     "text": [
      ".\n"
     ]
    },
    {
     "name": "stderr",
     "output_type": "stream",
     "text": [
      "100%|██████████| 51/51 [00:00<00:00, 17998.28it/s]\n",
      "100%|██████████| 4500/4500 [00:04<00:00, 1080.06it/s]\n"
     ]
    },
    {
     "name": "stdout",
     "output_type": "stream",
     "text": [
      ".\n"
     ]
    },
    {
     "name": "stderr",
     "output_type": "stream",
     "text": [
      "100%|██████████| 51/51 [00:00<00:00, 11869.35it/s]\n",
      "100%|██████████| 2500/2500 [00:01<00:00, 1423.82it/s]\n"
     ]
    },
    {
     "name": "stdout",
     "output_type": "stream",
     "text": [
      ".\n"
     ]
    },
    {
     "name": "stderr",
     "output_type": "stream",
     "text": [
      "100%|██████████| 51/51 [00:00<00:00, 16169.74it/s]\n",
      "100%|██████████| 2500/2500 [00:02<00:00, 1165.43it/s]\n"
     ]
    },
    {
     "name": "stdout",
     "output_type": "stream",
     "text": [
      ".\n"
     ]
    },
    {
     "name": "stderr",
     "output_type": "stream",
     "text": [
      "100%|██████████| 51/51 [00:00<00:00, 16085.84it/s]\n",
      "100%|██████████| 3200/3200 [00:02<00:00, 1277.38it/s]\n"
     ]
    },
    {
     "name": "stdout",
     "output_type": "stream",
     "text": [
      ".\n"
     ]
    },
    {
     "name": "stderr",
     "output_type": "stream",
     "text": [
      "100%|██████████| 51/51 [00:00<00:00, 14358.27it/s]\n",
      "100%|██████████| 2750/2750 [00:01<00:00, 1481.11it/s]\n"
     ]
    },
    {
     "name": "stdout",
     "output_type": "stream",
     "text": [
      ".\n"
     ]
    },
    {
     "name": "stderr",
     "output_type": "stream",
     "text": [
      "100%|██████████| 51/51 [00:00<00:00, 12608.13it/s]\n",
      "100%|██████████| 3200/3200 [00:03<00:00, 1038.61it/s]\n"
     ]
    },
    {
     "name": "stdout",
     "output_type": "stream",
     "text": [
      ".\n"
     ]
    },
    {
     "name": "stderr",
     "output_type": "stream",
     "text": [
      "100%|██████████| 51/51 [00:00<00:00, 15104.47it/s]\n",
      "100%|██████████| 1200/1200 [00:00<00:00, 1270.76it/s]\n"
     ]
    },
    {
     "name": "stdout",
     "output_type": "stream",
     "text": [
      ".\n"
     ]
    },
    {
     "name": "stderr",
     "output_type": "stream",
     "text": [
      "100%|██████████| 51/51 [00:00<00:00, 18956.89it/s]\n",
      "100%|██████████| 1570/1570 [00:01<00:00, 1568.92it/s]\n"
     ]
    },
    {
     "name": "stdout",
     "output_type": "stream",
     "text": [
      ".\n"
     ]
    },
    {
     "name": "stderr",
     "output_type": "stream",
     "text": [
      "100%|██████████| 51/51 [00:00<00:00, 16402.85it/s]\n",
      "100%|██████████| 1150/1150 [00:01<00:00, 609.54it/s]\n"
     ]
    },
    {
     "name": "stdout",
     "output_type": "stream",
     "text": [
      ".\n"
     ]
    },
    {
     "name": "stderr",
     "output_type": "stream",
     "text": [
      "100%|██████████| 51/51 [00:00<00:00, 19210.55it/s]\n",
      "100%|██████████| 2500/2500 [00:01<00:00, 1256.94it/s]\n"
     ]
    },
    {
     "name": "stdout",
     "output_type": "stream",
     "text": [
      ".\n"
     ]
    },
    {
     "name": "stderr",
     "output_type": "stream",
     "text": [
      "100%|██████████| 51/51 [00:00<00:00, 16940.64it/s]\n",
      "100%|██████████| 3900/3900 [00:04<00:00, 932.27it/s]\n"
     ]
    },
    {
     "name": "stdout",
     "output_type": "stream",
     "text": [
      ".\n"
     ]
    },
    {
     "name": "stderr",
     "output_type": "stream",
     "text": [
      "100%|██████████| 51/51 [00:00<00:00, 14037.90it/s]\n",
      "100%|██████████| 7000/7000 [00:09<00:00, 739.76it/s]\n"
     ]
    },
    {
     "name": "stdout",
     "output_type": "stream",
     "text": [
      ".\n"
     ]
    },
    {
     "name": "stderr",
     "output_type": "stream",
     "text": [
      "100%|██████████| 51/51 [00:00<00:00, 9739.10it/s]\n",
      "100%|██████████| 6500/6500 [00:09<00:00, 686.65it/s]\n"
     ]
    },
    {
     "name": "stdout",
     "output_type": "stream",
     "text": [
      ".\n"
     ]
    },
    {
     "name": "stderr",
     "output_type": "stream",
     "text": [
      "100%|██████████| 51/51 [00:00<00:00, 10571.26it/s]\n",
      "100%|██████████| 3500/3500 [00:06<00:00, 572.12it/s]\n"
     ]
    },
    {
     "name": "stdout",
     "output_type": "stream",
     "text": [
      ".\n"
     ]
    },
    {
     "name": "stderr",
     "output_type": "stream",
     "text": [
      "100%|██████████| 51/51 [00:00<00:00, 14069.29it/s]\n",
      "100%|██████████| 2050/2050 [00:01<00:00, 1465.54it/s]\n"
     ]
    },
    {
     "name": "stdout",
     "output_type": "stream",
     "text": [
      ".\n"
     ]
    },
    {
     "name": "stderr",
     "output_type": "stream",
     "text": [
      "100%|██████████| 51/51 [00:00<00:00, 18726.21it/s]\n",
      "100%|██████████| 1700/1700 [00:01<00:00, 1385.92it/s]\n"
     ]
    },
    {
     "name": "stdout",
     "output_type": "stream",
     "text": [
      ".\n"
     ]
    },
    {
     "name": "stderr",
     "output_type": "stream",
     "text": [
      "100%|██████████| 51/51 [00:00<00:00, 16699.94it/s]\n",
      "100%|██████████| 1099/1099 [00:00<00:00, 1503.02it/s]\n"
     ]
    },
    {
     "name": "stdout",
     "output_type": "stream",
     "text": [
      ".\n"
     ]
    },
    {
     "name": "stderr",
     "output_type": "stream",
     "text": [
      "100%|██████████| 51/51 [00:00<00:00, 17958.99it/s]\n",
      "100%|██████████| 1200/1200 [00:03<00:00, 309.37it/s]\n"
     ]
    },
    {
     "name": "stdout",
     "output_type": "stream",
     "text": [
      ".\n"
     ]
    },
    {
     "name": "stderr",
     "output_type": "stream",
     "text": [
      "100%|██████████| 51/51 [00:00<00:00, 18014.95it/s]\n",
      "100%|██████████| 1499/1499 [00:01<00:00, 998.68it/s]\n"
     ]
    },
    {
     "name": "stdout",
     "output_type": "stream",
     "text": [
      ".\n"
     ]
    },
    {
     "name": "stderr",
     "output_type": "stream",
     "text": [
      "100%|██████████| 51/51 [00:00<00:00, 16145.33it/s]\n",
      "100%|██████████| 4000/4000 [00:09<00:00, 425.00it/s]\n"
     ]
    },
    {
     "name": "stdout",
     "output_type": "stream",
     "text": [
      ".\n"
     ]
    },
    {
     "name": "stderr",
     "output_type": "stream",
     "text": [
      "100%|██████████| 51/51 [00:00<00:00, 13268.17it/s]\n",
      "100%|██████████| 7999/7999 [00:06<00:00, 1327.89it/s]\n"
     ]
    },
    {
     "name": "stdout",
     "output_type": "stream",
     "text": [
      ".\n"
     ]
    },
    {
     "name": "stderr",
     "output_type": "stream",
     "text": [
      "100%|██████████| 51/51 [00:00<00:00, 9681.35it/s]\n",
      "100%|██████████| 3000/3000 [00:02<00:00, 1300.80it/s]\n"
     ]
    },
    {
     "name": "stdout",
     "output_type": "stream",
     "text": [
      ".\n"
     ]
    },
    {
     "name": "stderr",
     "output_type": "stream",
     "text": [
      "100%|██████████| 51/51 [00:00<00:00, 14501.36it/s]\n",
      "100%|██████████| 1189/1189 [00:00<00:00, 1373.49it/s]\n"
     ]
    },
    {
     "name": "stdout",
     "output_type": "stream",
     "text": [
      ".\n"
     ]
    },
    {
     "name": "stderr",
     "output_type": "stream",
     "text": [
      "100%|██████████| 51/51 [00:00<00:00, 18904.95it/s]\n",
      "100%|██████████| 1184/1184 [00:01<00:00, 1061.24it/s]\n"
     ]
    },
    {
     "name": "stdout",
     "output_type": "stream",
     "text": [
      ".\n"
     ]
    },
    {
     "name": "stderr",
     "output_type": "stream",
     "text": [
      "100%|██████████| 51/51 [00:00<00:00, 14980.71it/s]\n",
      "100%|██████████| 4900/4900 [00:02<00:00, 1672.31it/s]\n"
     ]
    },
    {
     "name": "stdout",
     "output_type": "stream",
     "text": [
      ".\n"
     ]
    },
    {
     "name": "stderr",
     "output_type": "stream",
     "text": [
      "100%|██████████| 51/51 [00:00<00:00, 14203.82it/s]\n",
      "100%|██████████| 3700/3700 [00:02<00:00, 1673.83it/s]\n"
     ]
    },
    {
     "name": "stdout",
     "output_type": "stream",
     "text": [
      ".\n"
     ]
    },
    {
     "name": "stderr",
     "output_type": "stream",
     "text": [
      "100%|██████████| 51/51 [00:00<00:00, 15141.89it/s]\n",
      "100%|██████████| 5400/5400 [00:03<00:00, 1690.17it/s]\n"
     ]
    },
    {
     "name": "stdout",
     "output_type": "stream",
     "text": [
      ".\n"
     ]
    },
    {
     "name": "stderr",
     "output_type": "stream",
     "text": [
      "100%|██████████| 51/51 [00:00<00:00, 13985.58it/s]\n",
      "100%|██████████| 600/600 [00:01<00:00, 318.35it/s]\n"
     ]
    },
    {
     "name": "stdout",
     "output_type": "stream",
     "text": [
      ".\n"
     ]
    },
    {
     "name": "stderr",
     "output_type": "stream",
     "text": [
      "100%|██████████| 51/51 [00:00<00:00, 19278.07it/s]\n",
      "100%|██████████| 6500/6500 [00:03<00:00, 1677.10it/s]\n"
     ]
    },
    {
     "name": "stdout",
     "output_type": "stream",
     "text": [
      ".\n"
     ]
    },
    {
     "name": "stderr",
     "output_type": "stream",
     "text": [
      "100%|██████████| 51/51 [00:00<00:00, 10428.00it/s]\n",
      "100%|██████████| 4500/4500 [00:04<00:00, 920.97it/s]\n"
     ]
    },
    {
     "name": "stdout",
     "output_type": "stream",
     "text": [
      ".\n"
     ]
    },
    {
     "name": "stderr",
     "output_type": "stream",
     "text": [
      "100%|██████████| 51/51 [00:00<00:00, 14695.62it/s]\n",
      "100%|██████████| 5000/5000 [00:08<00:00, 601.97it/s]\n"
     ]
    },
    {
     "name": "stdout",
     "output_type": "stream",
     "text": [
      ".\n"
     ]
    },
    {
     "name": "stderr",
     "output_type": "stream",
     "text": [
      "100%|██████████| 51/51 [00:00<00:00, 14392.08it/s]\n",
      "100%|██████████| 2200/2200 [00:03<00:00, 633.70it/s]\n"
     ]
    },
    {
     "name": "stdout",
     "output_type": "stream",
     "text": [
      ".\n"
     ]
    },
    {
     "name": "stderr",
     "output_type": "stream",
     "text": [
      "100%|██████████| 51/51 [00:00<00:00, 16828.69it/s]\n",
      "100%|██████████| 4000/4000 [00:06<00:00, 628.38it/s]\n"
     ]
    },
    {
     "name": "stdout",
     "output_type": "stream",
     "text": [
      ".\n"
     ]
    },
    {
     "name": "stderr",
     "output_type": "stream",
     "text": [
      "100%|██████████| 51/51 [00:00<00:00, 14867.22it/s]\n",
      "100%|██████████| 1785/1785 [00:02<00:00, 788.87it/s]\n"
     ]
    },
    {
     "name": "stdout",
     "output_type": "stream",
     "text": [
      ".\n"
     ]
    },
    {
     "name": "stderr",
     "output_type": "stream",
     "text": [
      "100%|██████████| 51/51 [00:00<00:00, 16265.65it/s]\n",
      "100%|██████████| 2500/2500 [00:03<00:00, 802.44it/s]\n"
     ]
    },
    {
     "name": "stdout",
     "output_type": "stream",
     "text": [
      ".\n"
     ]
    },
    {
     "name": "stderr",
     "output_type": "stream",
     "text": [
      "100%|██████████| 51/51 [00:00<00:00, 16569.29it/s]\n",
      "100%|██████████| 3000/3000 [00:03<00:00, 975.61it/s]\n"
     ]
    },
    {
     "name": "stdout",
     "output_type": "stream",
     "text": [
      ".\n"
     ]
    },
    {
     "name": "stderr",
     "output_type": "stream",
     "text": [
      "100%|██████████| 51/51 [00:00<00:00, 14697.64it/s]\n",
      "100%|██████████| 5200/5200 [00:03<00:00, 1364.96it/s]\n"
     ]
    },
    {
     "name": "stdout",
     "output_type": "stream",
     "text": [
      ".\n"
     ]
    },
    {
     "name": "stderr",
     "output_type": "stream",
     "text": [
      "100%|██████████| 51/51 [00:00<00:00, 14370.81it/s]\n",
      "100%|██████████| 1364/1364 [00:01<00:00, 716.71it/s]\n"
     ]
    },
    {
     "name": "stdout",
     "output_type": "stream",
     "text": [
      ".\n"
     ]
    },
    {
     "name": "stderr",
     "output_type": "stream",
     "text": [
      "100%|██████████| 51/51 [00:00<00:00, 18739.33it/s]\n",
      "100%|██████████| 2760/2760 [00:03<00:00, 787.00it/s]\n"
     ]
    },
    {
     "name": "stdout",
     "output_type": "stream",
     "text": [
      ".\n"
     ]
    },
    {
     "name": "stderr",
     "output_type": "stream",
     "text": [
      "100%|██████████| 51/51 [00:00<00:00, 14395.96it/s]\n",
      "100%|██████████| 1250/1250 [00:00<00:00, 1393.13it/s]\n"
     ]
    },
    {
     "name": "stdout",
     "output_type": "stream",
     "text": [
      ".\n"
     ]
    },
    {
     "name": "stderr",
     "output_type": "stream",
     "text": [
      "100%|██████████| 51/51 [00:00<00:00, 18686.95it/s]\n",
      "100%|██████████| 1199/1199 [00:00<00:00, 1262.98it/s]\n"
     ]
    },
    {
     "name": "stdout",
     "output_type": "stream",
     "text": [
      ".\n"
     ]
    },
    {
     "name": "stderr",
     "output_type": "stream",
     "text": [
      "100%|██████████| 51/51 [00:00<00:00, 19402.22it/s]\n",
      "100%|██████████| 7400/7400 [00:05<00:00, 1404.37it/s]\n"
     ]
    },
    {
     "name": "stdout",
     "output_type": "stream",
     "text": [
      ".\n"
     ]
    },
    {
     "name": "stderr",
     "output_type": "stream",
     "text": [
      "100%|██████████| 51/51 [00:00<00:00, 10916.54it/s]\n",
      "100%|██████████| 3400/3400 [00:05<00:00, 590.74it/s]\n"
     ]
    },
    {
     "name": "stdout",
     "output_type": "stream",
     "text": [
      ".\n"
     ]
    },
    {
     "name": "stderr",
     "output_type": "stream",
     "text": [
      "100%|██████████| 51/51 [00:00<00:00, 13621.34it/s]\n",
      "100%|██████████| 1700/1700 [00:01<00:00, 1383.58it/s]\n"
     ]
    },
    {
     "name": "stdout",
     "output_type": "stream",
     "text": [
      ".\n"
     ]
    },
    {
     "name": "stderr",
     "output_type": "stream",
     "text": [
      "100%|██████████| 51/51 [00:00<00:00, 18828.40it/s]\n",
      "100%|██████████| 2000/2000 [00:01<00:00, 1389.21it/s]\n"
     ]
    },
    {
     "name": "stdout",
     "output_type": "stream",
     "text": [
      ".\n"
     ]
    },
    {
     "name": "stderr",
     "output_type": "stream",
     "text": [
      "100%|██████████| 51/51 [00:00<00:00, 15451.42it/s]\n",
      "100%|██████████| 1700/1700 [00:03<00:00, 542.72it/s]\n"
     ]
    },
    {
     "name": "stdout",
     "output_type": "stream",
     "text": [
      ".\n"
     ]
    },
    {
     "name": "stderr",
     "output_type": "stream",
     "text": [
      "100%|██████████| 51/51 [00:00<00:00, 17041.87it/s]\n",
      "100%|██████████| 2300/2300 [00:02<00:00, 978.51it/s] \n"
     ]
    },
    {
     "name": "stdout",
     "output_type": "stream",
     "text": [
      ".\n"
     ]
    },
    {
     "name": "stderr",
     "output_type": "stream",
     "text": [
      "100%|██████████| 51/51 [00:00<00:00, 15169.81it/s]\n",
      "100%|██████████| 1130/1130 [00:00<00:00, 1165.67it/s]\n"
     ]
    },
    {
     "name": "stdout",
     "output_type": "stream",
     "text": [
      ".\n"
     ]
    },
    {
     "name": "stderr",
     "output_type": "stream",
     "text": [
      "100%|██████████| 51/51 [00:00<00:00, 16035.20it/s]\n",
      "100%|██████████| 3500/3500 [00:04<00:00, 705.82it/s]\n"
     ]
    },
    {
     "name": "stdout",
     "output_type": "stream",
     "text": [
      ".\n"
     ]
    },
    {
     "name": "stderr",
     "output_type": "stream",
     "text": [
      "100%|██████████| 51/51 [00:00<00:00, 14311.20it/s]\n"
     ]
    }
   ],
   "source": [
    "import numpy as np\n",
    "import cv2\n",
    "import tqdm\n",
    "import os\n",
    "import torch\n",
    "\n",
    "os.environ[\"CUDA_VISIBLE_DEVICES\"] = \"0\"\n",
    "cats = os.listdir(\"/home/wg25r/fastdata/dataset\")\n",
    "\n",
    "os.makedirs(f\"/home/wg25r/fastdata/CDNet/histograms/\", exist_ok=True)\n",
    "def process(cat_video):\n",
    "    cat, video = cat_video\n",
    "    frames = os.listdir(f\"/home/wg25r/fastdata/dataset/{cat}/{video}/input/\")\n",
    "    frames = sorted(frames)\n",
    "    frame0 = cv2.resize(cv2.imread(f\"/home/wg25r/fastdata/dataset/{cat}/{video}/input/{frames[0]}\"), (256, 256))\n",
    "    volume = np.zeros((len(frames), frame0.shape[0], frame0.shape[1], 3), np.uint8)\n",
    "    for i, frame in enumerate(tqdm.tqdm(frames)):\n",
    "        tmp = cv2.resize(cv2.imread(f\"/home/wg25r/fastdata/dataset/{cat}/{video}/input/{frame}\"), (256, 256))\n",
    "        volume[i] = cv2.cvtColor(tmp, cv2.COLOR_BGR2RGB)\n",
    "  \n",
    "    counts = torch.zeros((255//5, volume.shape[1], volume.shape[2], volume.shape[3]), dtype=torch.uint8).cuda()\n",
    "    print(\".\")\n",
    "    volume_quantized = torch.tensor(volume).cuda() // 5\n",
    "    for i in tqdm.tqdm(range(255//5)):\n",
    "        counts[i] = torch.sum(volume_quantized == i, dim=0)\n",
    "    \n",
    "    torch.save(counts, f\"/home/wg25r/fastdata/CDNet/histograms/{cat}_{video}.pt\") \n",
    "    \n",
    "cats = {cat: os.listdir(f\"/home/wg25r/fastdata/dataset/{cat}\") for cat in os.listdir(\"/home/wg25r/fastdata/dataset\")}\n",
    "arg_group = []\n",
    "for cat in cats:\n",
    "    for dataset in cats[cat]: \n",
    "        arg_group.append((cat, dataset))\n",
    "        \n",
    "from multiprocessing import Pool\n",
    "# with Pool(100) as p: \n",
    "#     p.map(process, arg_group)\n",
    "for arg in arg_group:\n",
    "    process(arg)"
   ]
  },
  {
   "cell_type": "code",
   "execution_count": null,
   "metadata": {},
   "outputs": [],
   "source": [
    "counts = np.zeros((255//5, volume.shape[1], volume.shape[2], volume.shape[3]))\n",
    "volume_quantized = volume // 5\n",
    "for i in range(255//5):\n",
    "    counts[i] = np.sum(volume_quantized == i, axis=0)"
   ]
  },
  {
   "cell_type": "code",
   "execution_count": 78,
   "metadata": {},
   "outputs": [
    {
     "data": {
      "text/plain": [
       "(51, 240, 360, 3)"
      ]
     },
     "execution_count": 78,
     "metadata": {},
     "output_type": "execute_result"
    }
   ],
   "source": [
    "counts.shape"
   ]
  },
  {
   "cell_type": "code",
   "execution_count": 50,
   "metadata": {},
   "outputs": [
    {
     "data": {
      "text/plain": [
       "array([[[[ 8, 10,  9],\n",
       "         [ 8, 10,  9],\n",
       "         [ 8, 11,  9],\n",
       "         ...,\n",
       "         [18, 19, 17],\n",
       "         [19, 20, 18],\n",
       "         [20, 21, 19]],\n",
       "\n",
       "        [[ 8, 10,  9],\n",
       "         [ 8, 11,  9],\n",
       "         [ 8, 11,  9],\n",
       "         ...,\n",
       "         [20, 21, 19],\n",
       "         [20, 21, 19],\n",
       "         [21, 22, 19]],\n",
       "\n",
       "        [[ 8, 10,  9],\n",
       "         [ 8, 11,  9],\n",
       "         [ 8, 11,  9],\n",
       "         ...,\n",
       "         [20, 22, 19],\n",
       "         [20, 22, 19],\n",
       "         [20, 22, 19]],\n",
       "\n",
       "        ...,\n",
       "\n",
       "        [[ 1,  1,  1],\n",
       "         [ 1,  1,  1],\n",
       "         [ 1,  1,  1],\n",
       "         ...,\n",
       "         [ 2,  3,  4],\n",
       "         [ 2,  3,  3],\n",
       "         [ 2,  2,  3]],\n",
       "\n",
       "        [[ 1,  1,  1],\n",
       "         [ 1,  1,  1],\n",
       "         [ 1,  1,  1],\n",
       "         ...,\n",
       "         [ 2,  3,  4],\n",
       "         [ 2,  3,  3],\n",
       "         [ 2,  2,  3]],\n",
       "\n",
       "        [[ 1,  1,  1],\n",
       "         [ 1,  1,  1],\n",
       "         [ 1,  1,  1],\n",
       "         ...,\n",
       "         [ 2,  3,  4],\n",
       "         [ 2,  3,  3],\n",
       "         [ 2,  2,  3]]],\n",
       "\n",
       "\n",
       "       [[[ 8, 10,  9],\n",
       "         [ 8, 10,  9],\n",
       "         [ 8, 11,  9],\n",
       "         ...,\n",
       "         [18, 20, 17],\n",
       "         [19, 20, 18],\n",
       "         [19, 21, 18]],\n",
       "\n",
       "        [[ 8, 10,  9],\n",
       "         [ 8, 11,  9],\n",
       "         [ 8, 11,  9],\n",
       "         ...,\n",
       "         [19, 20, 18],\n",
       "         [20, 21, 19],\n",
       "         [20, 22, 19]],\n",
       "\n",
       "        [[ 8, 10,  9],\n",
       "         [ 8, 11,  9],\n",
       "         [ 8, 11,  9],\n",
       "         ...,\n",
       "         [20, 21, 19],\n",
       "         [20, 22, 19],\n",
       "         [21, 22, 20]],\n",
       "\n",
       "        ...,\n",
       "\n",
       "        [[ 1,  1,  1],\n",
       "         [ 1,  1,  1],\n",
       "         [ 1,  1,  1],\n",
       "         ...,\n",
       "         [ 2,  3,  3],\n",
       "         [ 2,  2,  3],\n",
       "         [ 2,  2,  3]],\n",
       "\n",
       "        [[ 1,  1,  1],\n",
       "         [ 1,  1,  1],\n",
       "         [ 1,  1,  1],\n",
       "         ...,\n",
       "         [ 2,  3,  3],\n",
       "         [ 2,  3,  3],\n",
       "         [ 2,  3,  3]],\n",
       "\n",
       "        [[ 1,  1,  1],\n",
       "         [ 1,  1,  1],\n",
       "         [ 1,  1,  1],\n",
       "         ...,\n",
       "         [ 3,  3,  4],\n",
       "         [ 3,  3,  4],\n",
       "         [ 3,  3,  4]]],\n",
       "\n",
       "\n",
       "       [[[ 9, 11,  9],\n",
       "         [ 9, 11,  9],\n",
       "         [ 9, 11,  9],\n",
       "         ...,\n",
       "         [19, 20, 17],\n",
       "         [19, 20, 18],\n",
       "         [20, 21, 19]],\n",
       "\n",
       "        [[ 9, 11,  9],\n",
       "         [ 9, 11,  9],\n",
       "         [ 9, 11,  9],\n",
       "         ...,\n",
       "         [19, 20, 18],\n",
       "         [20, 21, 19],\n",
       "         [21, 22, 19]],\n",
       "\n",
       "        [[ 9, 11,  9],\n",
       "         [ 9, 11,  9],\n",
       "         [ 9, 11,  9],\n",
       "         ...,\n",
       "         [20, 21, 19],\n",
       "         [21, 22, 19],\n",
       "         [21, 22, 20]],\n",
       "\n",
       "        ...,\n",
       "\n",
       "        [[ 1,  1,  1],\n",
       "         [ 1,  1,  1],\n",
       "         [ 1,  1,  1],\n",
       "         ...,\n",
       "         [ 2,  3,  3],\n",
       "         [ 2,  3,  3],\n",
       "         [ 2,  3,  3]],\n",
       "\n",
       "        [[ 1,  1,  1],\n",
       "         [ 1,  1,  1],\n",
       "         [ 1,  1,  1],\n",
       "         ...,\n",
       "         [ 2,  3,  3],\n",
       "         [ 2,  3,  3],\n",
       "         [ 2,  3,  3]],\n",
       "\n",
       "        [[ 1,  1,  1],\n",
       "         [ 1,  1,  1],\n",
       "         [ 1,  1,  1],\n",
       "         ...,\n",
       "         [ 3,  3,  3],\n",
       "         [ 3,  3,  3],\n",
       "         [ 2,  3,  3]]],\n",
       "\n",
       "\n",
       "       ...,\n",
       "\n",
       "\n",
       "       [[[ 9, 11,  9],\n",
       "         [ 9, 11,  9],\n",
       "         [ 9, 11,  9],\n",
       "         ...,\n",
       "         [18, 20, 17],\n",
       "         [19, 21, 18],\n",
       "         [20, 21, 19]],\n",
       "\n",
       "        [[ 9, 11,  9],\n",
       "         [ 9, 11,  9],\n",
       "         [ 9, 11,  9],\n",
       "         ...,\n",
       "         [19, 20, 18],\n",
       "         [20, 21, 19],\n",
       "         [20, 22, 19]],\n",
       "\n",
       "        [[ 9, 11,  9],\n",
       "         [ 9, 11,  9],\n",
       "         [ 9, 11,  9],\n",
       "         ...,\n",
       "         [20, 21, 19],\n",
       "         [20, 22, 19],\n",
       "         [20, 22, 19]],\n",
       "\n",
       "        ...,\n",
       "\n",
       "        [[ 1,  1,  2],\n",
       "         [ 1,  1,  2],\n",
       "         [ 1,  1,  2],\n",
       "         ...,\n",
       "         [ 3,  3,  4],\n",
       "         [ 3,  3,  4],\n",
       "         [ 2,  3,  3]],\n",
       "\n",
       "        [[ 1,  1,  1],\n",
       "         [ 1,  1,  1],\n",
       "         [ 1,  1,  1],\n",
       "         ...,\n",
       "         [ 3,  3,  4],\n",
       "         [ 3,  3,  4],\n",
       "         [ 2,  3,  3]],\n",
       "\n",
       "        [[ 1,  1,  1],\n",
       "         [ 1,  1,  1],\n",
       "         [ 1,  1,  1],\n",
       "         ...,\n",
       "         [ 3,  3,  4],\n",
       "         [ 3,  3,  3],\n",
       "         [ 2,  3,  3]]],\n",
       "\n",
       "\n",
       "       [[[ 9, 10,  9],\n",
       "         [ 9, 10,  9],\n",
       "         [ 9, 11,  9],\n",
       "         ...,\n",
       "         [19, 20, 18],\n",
       "         [19, 21, 18],\n",
       "         [20, 21, 19]],\n",
       "\n",
       "        [[ 9, 11,  9],\n",
       "         [ 9, 11,  9],\n",
       "         [ 9, 11,  9],\n",
       "         ...,\n",
       "         [20, 21, 19],\n",
       "         [20, 21, 19],\n",
       "         [20, 21, 19]],\n",
       "\n",
       "        [[ 9, 11,  9],\n",
       "         [ 9, 11,  9],\n",
       "         [ 9, 11, 10],\n",
       "         ...,\n",
       "         [20, 22, 19],\n",
       "         [20, 22, 19],\n",
       "         [20, 22, 19]],\n",
       "\n",
       "        ...,\n",
       "\n",
       "        [[ 2,  1,  2],\n",
       "         [ 2,  1,  2],\n",
       "         [ 2,  1,  2],\n",
       "         ...,\n",
       "         [ 2,  3,  4],\n",
       "         [ 2,  3,  4],\n",
       "         [ 2,  3,  4]],\n",
       "\n",
       "        [[ 1,  1,  1],\n",
       "         [ 1,  1,  1],\n",
       "         [ 1,  1,  1],\n",
       "         ...,\n",
       "         [ 2,  3,  4],\n",
       "         [ 2,  3,  4],\n",
       "         [ 2,  3,  3]],\n",
       "\n",
       "        [[ 1,  1,  1],\n",
       "         [ 1,  1,  1],\n",
       "         [ 1,  1,  1],\n",
       "         ...,\n",
       "         [ 2,  3,  4],\n",
       "         [ 2,  3,  3],\n",
       "         [ 2,  2,  3]]],\n",
       "\n",
       "\n",
       "       [[[ 9, 10,  9],\n",
       "         [ 9, 11,  9],\n",
       "         [ 9, 11,  9],\n",
       "         ...,\n",
       "         [18, 19, 17],\n",
       "         [19, 20, 18],\n",
       "         [20, 21, 19]],\n",
       "\n",
       "        [[ 9, 10,  9],\n",
       "         [ 9, 11,  9],\n",
       "         [ 9, 11,  9],\n",
       "         ...,\n",
       "         [20, 21, 18],\n",
       "         [20, 21, 19],\n",
       "         [21, 22, 19]],\n",
       "\n",
       "        [[ 9, 11,  9],\n",
       "         [ 9, 11,  9],\n",
       "         [ 9, 11,  9],\n",
       "         ...,\n",
       "         [20, 22, 19],\n",
       "         [21, 22, 19],\n",
       "         [21, 22, 20]],\n",
       "\n",
       "        ...,\n",
       "\n",
       "        [[ 1,  2,  1],\n",
       "         [ 1,  2,  1],\n",
       "         [ 1,  1,  1],\n",
       "         ...,\n",
       "         [ 2,  3,  3],\n",
       "         [ 2,  3,  3],\n",
       "         [ 2,  3,  3]],\n",
       "\n",
       "        [[ 1,  1,  1],\n",
       "         [ 1,  1,  1],\n",
       "         [ 1,  1,  1],\n",
       "         ...,\n",
       "         [ 2,  3,  3],\n",
       "         [ 2,  3,  3],\n",
       "         [ 2,  3,  3]],\n",
       "\n",
       "        [[ 1,  1,  1],\n",
       "         [ 1,  1,  1],\n",
       "         [ 1,  1,  1],\n",
       "         ...,\n",
       "         [ 2,  3,  3],\n",
       "         [ 2,  3,  3],\n",
       "         [ 2,  3,  3]]]])"
      ]
     },
     "execution_count": 50,
     "metadata": {},
     "output_type": "execute_result"
    }
   ],
   "source": [
    "np.digitize(volume, bins = np.arange(0, 255, 10))"
   ]
  },
  {
   "cell_type": "code",
   "execution_count": null,
   "metadata": {},
   "outputs": [
    {
     "data": {
      "text/plain": [
       "[<matplotlib.lines.Line2D at 0x73f05c32fe50>]"
      ]
     },
     "execution_count": 48,
     "metadata": {},
     "output_type": "execute_result"
    },
    {
     "data": {
      "image/png": "[encoded data removed]",
      "text/plain": [
       "<Figure size 640x480 with 1 Axes>"
      ]
     },
     "metadata": {},
     "output_type": "display_data"
    }
   ],
   "source": [
    "import pylab\n",
    "pylab.plot(volume[np.digitize(volume, bins = np.arange(0, 255, 10))])"
   ]
  }
 ],
 "metadata": {
  "kernelspec": {
   "display_name": "Python 3",
   "language": "python",
   "name": "python3"
  },
  "language_info": {
   "codemirror_mode": {
    "name": "ipython",
    "version": 3
   },
   "file_extension": ".py",
   "mimetype": "text/x-python",
   "name": "python",
   "nbconvert_exporter": "python",
   "pygments_lexer": "ipython3",
   "version": "3.10.12"
  }
 },
 "nbformat": 4,
 "nbformat_minor": 2
}
