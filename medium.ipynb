{
 "cells": [
  {
   "cell_type": "code",
   "execution_count": 1,
   "metadata": {},
   "outputs": [
    {
     "name": "stderr",
     "output_type": "stream",
     "text": [
      "/home/wg25r/.local/lib/python3.10/site-packages/tqdm/auto.py:21: TqdmWarning: IProgress not found. Please update jupyter and ipywidgets. See https://ipywidgets.readthedocs.io/en/stable/user_install.html\n",
      "  from .autonotebook import tqdm as notebook_tqdm\n",
      "Some weights of SegformerForSemanticSegmentation were not initialized from the model checkpoint at nvidia/segformer-b0-finetuned-ade-512-512 and are newly initialized: ['segformer.encoder.test.bias', 'segformer.encoder.test.weight']\n",
      "You should probably TRAIN this model on a down-stream task to be able to use it for predictions and inference.\n"
     ]
    }
   ],
   "source": [
    "import torch\n",
    "from transformers import SegformerFeatureExtractor, SegformerForSemanticSegmentation, SegformerConfig\n",
    "backbone = SegformerForSemanticSegmentation.from_pretrained(\"nvidia/segformer-b0-finetuned-ade-512-512\")\n",
    "backbone.decode_head.classifier = torch.nn.Identity()\n"
   ]
  },
  {
   "cell_type": "code",
   "execution_count": 2,
   "metadata": {},
   "outputs": [],
   "source": [
    "backbone.eval()\n",
    "import os"
   ]
  },
  {
   "cell_type": "code",
   "execution_count": 3,
   "metadata": {},
   "outputs": [
    {
     "data": {
      "text/plain": [
       "410"
      ]
     },
     "execution_count": 3,
     "metadata": {},
     "output_type": "execute_result"
    }
   ],
   "source": [
    "import torch\n",
    "frames = os.listdir('/mnt/fastdata/dataset/baseline/office/input')[::5]\n",
    "import tqdm\n",
    "features = torch.zeros((len(frames), 256, 128, 128))\n",
    "len(frames)"
   ]
  },
  {
   "cell_type": "code",
   "execution_count": 4,
   "metadata": {},
   "outputs": [],
   "source": [
    "from PIL import Image\n",
    "from transformers import AutoImageProcessor\n",
    "image_processor = AutoImageProcessor.from_pretrained(\"nvidia/segformer-b0-finetuned-ade-512-512\")\n",
    "backbone = backbone.cuda()"
   ]
  },
  {
   "cell_type": "code",
   "execution_count": 5,
   "metadata": {},
   "outputs": [
    {
     "name": "stderr",
     "output_type": "stream",
     "text": [
      "100%|██████████| 410/410 [00:11<00:00, 36.47it/s]\n"
     ]
    }
   ],
   "source": [
    "for i in tqdm.tqdm(range(len(frames))):\n",
    "    with torch.no_grad():\n",
    "        frame = frames[i]\n",
    "        img = Image.open(f'/mnt/fastdata/dataset/baseline/office/input/{frame}')\n",
    "        img = image_processor(img, return_tensors=\"pt\")\n",
    "        res = backbone(img.pixel_values.cuda()).logits.cpu()\n",
    "        features[i] = res   "
   ]
  },
  {
   "cell_type": "code",
   "execution_count": 15,
   "metadata": {},
   "outputs": [],
   "source": [
    "mean = features[0]\n",
    "\n",
    "sim = torch.nn.CosineSimilarity(dim=1)(mean, features)\n"
   ]
  },
  {
   "cell_type": "code",
   "execution_count": 16,
   "metadata": {},
   "outputs": [],
   "source": [
    "difference = 1 - sim"
   ]
  },
  {
   "cell_type": "code",
   "execution_count": 17,
   "metadata": {},
   "outputs": [
    {
     "data": {
      "text/plain": [
       "torch.Size([410, 128, 128])"
      ]
     },
     "execution_count": 17,
     "metadata": {},
     "output_type": "execute_result"
    }
   ],
   "source": [
    "difference.shape"
   ]
  },
  {
   "cell_type": "code",
   "execution_count": 18,
   "metadata": {},
   "outputs": [],
   "source": [
    "difference = difference.cpu().numpy()\n",
    "# difference = difference.mean(1)\n"
   ]
  },
  {
   "cell_type": "code",
   "execution_count": 22,
   "metadata": {},
   "outputs": [
    {
     "name": "stderr",
     "output_type": "stream",
     "text": [
      "100%|██████████| 410/410 [00:00<00:00, 934.02it/s]\n"
     ]
    }
   ],
   "source": [
    "# save difference into a mp4 video \n",
    "import cv2\n",
    "import numpy as np\n",
    "import os \n",
    "import tqdm\n",
    "\n",
    "fourcc = cv2.VideoWriter_fourcc(*'mp4v')\n",
    "video = cv2.VideoWriter('difference.mp4', fourcc, 10, (128 * 2, 128))\n",
    "for i in tqdm.tqdm(range(len(difference))):\n",
    "    mask = (difference[i] > 0.3) * 255 \n",
    "    mask = cv2.applyColorMap(mask.astype(np.uint8), cv2.COLORMAP_JET)\n",
    "    raw = cv2.imread(f'/mnt/fastdata/dataset/baseline/office/input/{frames[i]}')\n",
    "    raw = cv2.resize(raw, (128, 128))\n",
    "    frame = np.concatenate((raw, mask), axis=1)\n",
    "    video.write(frame)\n",
    "video.release() "
   ]
  },
  {
   "cell_type": "code",
   "execution_count": 9,
   "metadata": {},
   "outputs": [],
   "source": [
    "# kmeans (kind of similar to mog) then chose the most common cluster as the background (even gpt knows this)"
   ]
  }
 ],
 "metadata": {
  "kernelspec": {
   "display_name": "Python 3",
   "language": "python",
   "name": "python3"
  },
  "language_info": {
   "codemirror_mode": {
    "name": "ipython",
    "version": 3
   },
   "file_extension": ".py",
   "mimetype": "text/x-python",
   "name": "python",
   "nbconvert_exporter": "python",
   "pygments_lexer": "ipython3",
   "version": "3.10.12"
  }
 },
 "nbformat": 4,
 "nbformat_minor": 2
}
